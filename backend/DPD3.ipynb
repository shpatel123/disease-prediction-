{
 "cells": [
  {
   "cell_type": "code",
   "execution_count": 149,
   "metadata": {
    "id": "1qeEsJfnyJ7x"
   },
   "outputs": [],
   "source": [
    "import pandas as pd\n",
    "import numpy as np\n",
    "from sklearn.impute import SimpleImputer\n"
   ]
  },
  {
   "cell_type": "code",
   "execution_count": 150,
   "metadata": {
    "id": "J1VlVl68yNhT"
   },
   "outputs": [],
   "source": [
    "df=pd.read_csv(\"../data/dataset.csv\")"
   ]
  },
  {
   "cell_type": "code",
   "execution_count": 151,
   "metadata": {
    "colab": {
     "base_uri": "https://localhost:8080/",
     "height": 461
    },
    "id": "0XUb3Qx1ySht",
    "outputId": "05a80dbd-5447-408c-b3a3-234209067b27"
   },
   "outputs": [
    {
     "data": {
      "text/html": [
       "<div>\n",
       "<style scoped>\n",
       "    .dataframe tbody tr th:only-of-type {\n",
       "        vertical-align: middle;\n",
       "    }\n",
       "\n",
       "    .dataframe tbody tr th {\n",
       "        vertical-align: top;\n",
       "    }\n",
       "\n",
       "    .dataframe thead th {\n",
       "        text-align: right;\n",
       "    }\n",
       "</style>\n",
       "<table border=\"1\" class=\"dataframe\">\n",
       "  <thead>\n",
       "    <tr style=\"text-align: right;\">\n",
       "      <th></th>\n",
       "      <th>Disease</th>\n",
       "      <th>Symptom_1</th>\n",
       "      <th>Symptom_2</th>\n",
       "      <th>Symptom_3</th>\n",
       "      <th>Symptom_4</th>\n",
       "      <th>Symptom_5</th>\n",
       "      <th>Unnamed: 6</th>\n",
       "      <th>Unnamed: 7</th>\n",
       "      <th>Unnamed: 8</th>\n",
       "      <th>Unnamed: 9</th>\n",
       "      <th>Unnamed: 10</th>\n",
       "      <th>Unnamed: 11</th>\n",
       "      <th>Unnamed: 12</th>\n",
       "      <th>Unnamed: 13</th>\n",
       "      <th>Unnamed: 14</th>\n",
       "      <th>Unnamed: 15</th>\n",
       "      <th>Unnamed: 16</th>\n",
       "      <th>Unnamed: 17</th>\n",
       "    </tr>\n",
       "  </thead>\n",
       "  <tbody>\n",
       "    <tr>\n",
       "      <th>0</th>\n",
       "      <td>Fungalinfection</td>\n",
       "      <td>itching</td>\n",
       "      <td>skin_rash</td>\n",
       "      <td>nodal_skin_eruptions</td>\n",
       "      <td>dischromic_patches</td>\n",
       "      <td>NaN</td>\n",
       "      <td>NaN</td>\n",
       "      <td>NaN</td>\n",
       "      <td>NaN</td>\n",
       "      <td>NaN</td>\n",
       "      <td>NaN</td>\n",
       "      <td>NaN</td>\n",
       "      <td>NaN</td>\n",
       "      <td>NaN</td>\n",
       "      <td>NaN</td>\n",
       "      <td>NaN</td>\n",
       "      <td>NaN</td>\n",
       "      <td>NaN</td>\n",
       "    </tr>\n",
       "    <tr>\n",
       "      <th>1</th>\n",
       "      <td>Fungalinfection</td>\n",
       "      <td>skin_rash</td>\n",
       "      <td>nodal_skin_eruptions</td>\n",
       "      <td>dischromic_patches</td>\n",
       "      <td>NaN</td>\n",
       "      <td>NaN</td>\n",
       "      <td>NaN</td>\n",
       "      <td>NaN</td>\n",
       "      <td>NaN</td>\n",
       "      <td>NaN</td>\n",
       "      <td>NaN</td>\n",
       "      <td>NaN</td>\n",
       "      <td>NaN</td>\n",
       "      <td>NaN</td>\n",
       "      <td>NaN</td>\n",
       "      <td>NaN</td>\n",
       "      <td>NaN</td>\n",
       "      <td>NaN</td>\n",
       "    </tr>\n",
       "    <tr>\n",
       "      <th>2</th>\n",
       "      <td>Fungalinfection</td>\n",
       "      <td>itching</td>\n",
       "      <td>nodal_skin_eruptions</td>\n",
       "      <td>dischromic_patches</td>\n",
       "      <td>NaN</td>\n",
       "      <td>NaN</td>\n",
       "      <td>NaN</td>\n",
       "      <td>NaN</td>\n",
       "      <td>NaN</td>\n",
       "      <td>NaN</td>\n",
       "      <td>NaN</td>\n",
       "      <td>NaN</td>\n",
       "      <td>NaN</td>\n",
       "      <td>NaN</td>\n",
       "      <td>NaN</td>\n",
       "      <td>NaN</td>\n",
       "      <td>NaN</td>\n",
       "      <td>NaN</td>\n",
       "    </tr>\n",
       "    <tr>\n",
       "      <th>3</th>\n",
       "      <td>Fungalinfection</td>\n",
       "      <td>itching</td>\n",
       "      <td>skin_rash</td>\n",
       "      <td>dischromic_patches</td>\n",
       "      <td>NaN</td>\n",
       "      <td>NaN</td>\n",
       "      <td>NaN</td>\n",
       "      <td>NaN</td>\n",
       "      <td>NaN</td>\n",
       "      <td>NaN</td>\n",
       "      <td>NaN</td>\n",
       "      <td>NaN</td>\n",
       "      <td>NaN</td>\n",
       "      <td>NaN</td>\n",
       "      <td>NaN</td>\n",
       "      <td>NaN</td>\n",
       "      <td>NaN</td>\n",
       "      <td>NaN</td>\n",
       "    </tr>\n",
       "    <tr>\n",
       "      <th>4</th>\n",
       "      <td>Fungalinfection</td>\n",
       "      <td>itching</td>\n",
       "      <td>skin_rash</td>\n",
       "      <td>nodal_skin_eruptions</td>\n",
       "      <td>NaN</td>\n",
       "      <td>NaN</td>\n",
       "      <td>NaN</td>\n",
       "      <td>NaN</td>\n",
       "      <td>NaN</td>\n",
       "      <td>NaN</td>\n",
       "      <td>NaN</td>\n",
       "      <td>NaN</td>\n",
       "      <td>NaN</td>\n",
       "      <td>NaN</td>\n",
       "      <td>NaN</td>\n",
       "      <td>NaN</td>\n",
       "      <td>NaN</td>\n",
       "      <td>NaN</td>\n",
       "    </tr>\n",
       "    <tr>\n",
       "      <th>...</th>\n",
       "      <td>...</td>\n",
       "      <td>...</td>\n",
       "      <td>...</td>\n",
       "      <td>...</td>\n",
       "      <td>...</td>\n",
       "      <td>...</td>\n",
       "      <td>...</td>\n",
       "      <td>...</td>\n",
       "      <td>...</td>\n",
       "      <td>...</td>\n",
       "      <td>...</td>\n",
       "      <td>...</td>\n",
       "      <td>...</td>\n",
       "      <td>...</td>\n",
       "      <td>...</td>\n",
       "      <td>...</td>\n",
       "      <td>...</td>\n",
       "      <td>...</td>\n",
       "    </tr>\n",
       "    <tr>\n",
       "      <th>4915</th>\n",
       "      <td>(vertigo)ParoymsalPositionalVertigo</td>\n",
       "      <td>vomiting</td>\n",
       "      <td>headache</td>\n",
       "      <td>nausea</td>\n",
       "      <td>spinning_movements</td>\n",
       "      <td>loss_of_balance</td>\n",
       "      <td>unsteadiness</td>\n",
       "      <td>NaN</td>\n",
       "      <td>NaN</td>\n",
       "      <td>NaN</td>\n",
       "      <td>NaN</td>\n",
       "      <td>NaN</td>\n",
       "      <td>NaN</td>\n",
       "      <td>NaN</td>\n",
       "      <td>NaN</td>\n",
       "      <td>NaN</td>\n",
       "      <td>NaN</td>\n",
       "      <td>NaN</td>\n",
       "    </tr>\n",
       "    <tr>\n",
       "      <th>4916</th>\n",
       "      <td>Acne</td>\n",
       "      <td>skin_rash</td>\n",
       "      <td>pus_filled_pimples</td>\n",
       "      <td>blackheads</td>\n",
       "      <td>scurring</td>\n",
       "      <td>NaN</td>\n",
       "      <td>NaN</td>\n",
       "      <td>NaN</td>\n",
       "      <td>NaN</td>\n",
       "      <td>NaN</td>\n",
       "      <td>NaN</td>\n",
       "      <td>NaN</td>\n",
       "      <td>NaN</td>\n",
       "      <td>NaN</td>\n",
       "      <td>NaN</td>\n",
       "      <td>NaN</td>\n",
       "      <td>NaN</td>\n",
       "      <td>NaN</td>\n",
       "    </tr>\n",
       "    <tr>\n",
       "      <th>4917</th>\n",
       "      <td>Urinarytractinfection</td>\n",
       "      <td>burning_micturition</td>\n",
       "      <td>bladder_discomfort</td>\n",
       "      <td>foul_smell_ofurine</td>\n",
       "      <td>continuous_feel_of_urine</td>\n",
       "      <td>NaN</td>\n",
       "      <td>NaN</td>\n",
       "      <td>NaN</td>\n",
       "      <td>NaN</td>\n",
       "      <td>NaN</td>\n",
       "      <td>NaN</td>\n",
       "      <td>NaN</td>\n",
       "      <td>NaN</td>\n",
       "      <td>NaN</td>\n",
       "      <td>NaN</td>\n",
       "      <td>NaN</td>\n",
       "      <td>NaN</td>\n",
       "      <td>NaN</td>\n",
       "    </tr>\n",
       "    <tr>\n",
       "      <th>4918</th>\n",
       "      <td>Psoriasis</td>\n",
       "      <td>skin_rash</td>\n",
       "      <td>joint_pain</td>\n",
       "      <td>skin_peeling</td>\n",
       "      <td>silver_like_dusting</td>\n",
       "      <td>small_dents_in_nails</td>\n",
       "      <td>inflammatory_nails</td>\n",
       "      <td>NaN</td>\n",
       "      <td>NaN</td>\n",
       "      <td>NaN</td>\n",
       "      <td>NaN</td>\n",
       "      <td>NaN</td>\n",
       "      <td>NaN</td>\n",
       "      <td>NaN</td>\n",
       "      <td>NaN</td>\n",
       "      <td>NaN</td>\n",
       "      <td>NaN</td>\n",
       "      <td>NaN</td>\n",
       "    </tr>\n",
       "    <tr>\n",
       "      <th>4919</th>\n",
       "      <td>Impetigo</td>\n",
       "      <td>skin_rash</td>\n",
       "      <td>high_fever</td>\n",
       "      <td>blister</td>\n",
       "      <td>red_sore_around_nose</td>\n",
       "      <td>yellow_crust_ooze</td>\n",
       "      <td>NaN</td>\n",
       "      <td>NaN</td>\n",
       "      <td>NaN</td>\n",
       "      <td>NaN</td>\n",
       "      <td>NaN</td>\n",
       "      <td>NaN</td>\n",
       "      <td>NaN</td>\n",
       "      <td>NaN</td>\n",
       "      <td>NaN</td>\n",
       "      <td>NaN</td>\n",
       "      <td>NaN</td>\n",
       "      <td>NaN</td>\n",
       "    </tr>\n",
       "  </tbody>\n",
       "</table>\n",
       "<p>4920 rows × 18 columns</p>\n",
       "</div>"
      ],
      "text/plain": [
       "                                  Disease            Symptom_1  \\\n",
       "0                         Fungalinfection              itching   \n",
       "1                         Fungalinfection            skin_rash   \n",
       "2                         Fungalinfection              itching   \n",
       "3                         Fungalinfection              itching   \n",
       "4                         Fungalinfection              itching   \n",
       "...                                   ...                  ...   \n",
       "4915  (vertigo)ParoymsalPositionalVertigo             vomiting   \n",
       "4916                                 Acne            skin_rash   \n",
       "4917                Urinarytractinfection  burning_micturition   \n",
       "4918                            Psoriasis            skin_rash   \n",
       "4919                             Impetigo            skin_rash   \n",
       "\n",
       "                 Symptom_2             Symptom_3                 Symptom_4  \\\n",
       "0                skin_rash  nodal_skin_eruptions        dischromic_patches   \n",
       "1     nodal_skin_eruptions    dischromic_patches                       NaN   \n",
       "2     nodal_skin_eruptions    dischromic_patches                       NaN   \n",
       "3                skin_rash    dischromic_patches                       NaN   \n",
       "4                skin_rash  nodal_skin_eruptions                       NaN   \n",
       "...                    ...                   ...                       ...   \n",
       "4915              headache                nausea        spinning_movements   \n",
       "4916    pus_filled_pimples            blackheads                  scurring   \n",
       "4917    bladder_discomfort    foul_smell_ofurine  continuous_feel_of_urine   \n",
       "4918            joint_pain          skin_peeling       silver_like_dusting   \n",
       "4919            high_fever               blister      red_sore_around_nose   \n",
       "\n",
       "                 Symptom_5          Unnamed: 6 Unnamed: 7 Unnamed: 8  \\\n",
       "0                      NaN                 NaN        NaN        NaN   \n",
       "1                      NaN                 NaN        NaN        NaN   \n",
       "2                      NaN                 NaN        NaN        NaN   \n",
       "3                      NaN                 NaN        NaN        NaN   \n",
       "4                      NaN                 NaN        NaN        NaN   \n",
       "...                    ...                 ...        ...        ...   \n",
       "4915       loss_of_balance        unsteadiness        NaN        NaN   \n",
       "4916                   NaN                 NaN        NaN        NaN   \n",
       "4917                   NaN                 NaN        NaN        NaN   \n",
       "4918  small_dents_in_nails  inflammatory_nails        NaN        NaN   \n",
       "4919     yellow_crust_ooze                 NaN        NaN        NaN   \n",
       "\n",
       "     Unnamed: 9 Unnamed: 10 Unnamed: 11 Unnamed: 12 Unnamed: 13 Unnamed: 14  \\\n",
       "0           NaN         NaN         NaN         NaN         NaN         NaN   \n",
       "1           NaN         NaN         NaN         NaN         NaN         NaN   \n",
       "2           NaN         NaN         NaN         NaN         NaN         NaN   \n",
       "3           NaN         NaN         NaN         NaN         NaN         NaN   \n",
       "4           NaN         NaN         NaN         NaN         NaN         NaN   \n",
       "...         ...         ...         ...         ...         ...         ...   \n",
       "4915        NaN         NaN         NaN         NaN         NaN         NaN   \n",
       "4916        NaN         NaN         NaN         NaN         NaN         NaN   \n",
       "4917        NaN         NaN         NaN         NaN         NaN         NaN   \n",
       "4918        NaN         NaN         NaN         NaN         NaN         NaN   \n",
       "4919        NaN         NaN         NaN         NaN         NaN         NaN   \n",
       "\n",
       "     Unnamed: 15 Unnamed: 16 Unnamed: 17  \n",
       "0            NaN         NaN         NaN  \n",
       "1            NaN         NaN         NaN  \n",
       "2            NaN         NaN         NaN  \n",
       "3            NaN         NaN         NaN  \n",
       "4            NaN         NaN         NaN  \n",
       "...          ...         ...         ...  \n",
       "4915         NaN         NaN         NaN  \n",
       "4916         NaN         NaN         NaN  \n",
       "4917         NaN         NaN         NaN  \n",
       "4918         NaN         NaN         NaN  \n",
       "4919         NaN         NaN         NaN  \n",
       "\n",
       "[4920 rows x 18 columns]"
      ]
     },
     "execution_count": 151,
     "metadata": {},
     "output_type": "execute_result"
    }
   ],
   "source": [
    "df"
   ]
  },
  {
   "cell_type": "code",
   "execution_count": 152,
   "metadata": {
    "id": "Hd6IIcBiZ_g4"
   },
   "outputs": [],
   "source": [
    "df['Symptom_1'] = df['Symptom_1'].str.lower()\n",
    "df['Symptom_2'] = df['Symptom_2'].str.lower()\n",
    "df['Symptom_3'] = df['Symptom_3'].str.lower()\n",
    "df['Symptom_4'] = df['Symptom_4'].str.lower()\n",
    "df['Symptom_5'] = df['Symptom_5'].str.lower()"
   ]
  },
  {
   "cell_type": "code",
   "execution_count": 153,
   "metadata": {
    "id": "pWtIBracZ_g5"
   },
   "outputs": [],
   "source": [
    "df['Symptom_1'] = df['Symptom_1'].str.strip()\n",
    "df['Symptom_2'] = df['Symptom_2'].str.strip()\n",
    "df['Symptom_3'] = df['Symptom_3'].str.strip()\n",
    "df['Symptom_4'] = df['Symptom_4'].str.strip()\n",
    "df['Symptom_5'] = df['Symptom_5'].str.strip()"
   ]
  },
  {
   "cell_type": "code",
   "execution_count": 154,
   "metadata": {
    "colab": {
     "base_uri": "https://localhost:8080/"
    },
    "id": "qNYk-774yTRO",
    "outputId": "0f28c4d8-e8dc-4873-cb06-aebdc53acfaa"
   },
   "outputs": [
    {
     "data": {
      "text/plain": [
       "(4920, 18)"
      ]
     },
     "execution_count": 154,
     "metadata": {},
     "output_type": "execute_result"
    }
   ],
   "source": [
    "df.shape"
   ]
  },
  {
   "cell_type": "code",
   "execution_count": 155,
   "metadata": {
    "colab": {
     "base_uri": "https://localhost:8080/",
     "height": 648
    },
    "id": "i4bIiBrLyUoT",
    "outputId": "df51561c-9bb0-4dab-8ae4-b7ac63dfbb04"
   },
   "outputs": [
    {
     "data": {
      "text/plain": [
       "Disease           0\n",
       "Symptom_1         0\n",
       "Symptom_2         0\n",
       "Symptom_3         0\n",
       "Symptom_4       348\n",
       "Symptom_5      1206\n",
       "Unnamed: 6     1986\n",
       "Unnamed: 7     2652\n",
       "Unnamed: 8     2976\n",
       "Unnamed: 9     3228\n",
       "Unnamed: 10    3408\n",
       "Unnamed: 11    3726\n",
       "Unnamed: 12    4176\n",
       "Unnamed: 13    4416\n",
       "Unnamed: 14    4614\n",
       "Unnamed: 15    4680\n",
       "Unnamed: 16    4728\n",
       "Unnamed: 17    4848\n",
       "dtype: int64"
      ]
     },
     "execution_count": 155,
     "metadata": {},
     "output_type": "execute_result"
    }
   ],
   "source": [
    "df.isnull().sum()"
   ]
  },
  {
   "cell_type": "code",
   "execution_count": 156,
   "metadata": {
    "colab": {
     "base_uri": "https://localhost:8080/",
     "height": 212
    },
    "id": "7tUtnc41zDWN",
    "outputId": "cd731e5c-831c-4edc-a637-07cb2eafdf39"
   },
   "outputs": [
    {
     "data": {
      "text/html": [
       "<div>\n",
       "<style scoped>\n",
       "    .dataframe tbody tr th:only-of-type {\n",
       "        vertical-align: middle;\n",
       "    }\n",
       "\n",
       "    .dataframe tbody tr th {\n",
       "        vertical-align: top;\n",
       "    }\n",
       "\n",
       "    .dataframe thead th {\n",
       "        text-align: right;\n",
       "    }\n",
       "</style>\n",
       "<table border=\"1\" class=\"dataframe\">\n",
       "  <thead>\n",
       "    <tr style=\"text-align: right;\">\n",
       "      <th></th>\n",
       "      <th>Disease</th>\n",
       "      <th>Symptom_1</th>\n",
       "      <th>Symptom_2</th>\n",
       "      <th>Symptom_3</th>\n",
       "      <th>Symptom_4</th>\n",
       "      <th>Symptom_5</th>\n",
       "      <th>Unnamed: 6</th>\n",
       "      <th>Unnamed: 7</th>\n",
       "      <th>Unnamed: 8</th>\n",
       "      <th>Unnamed: 9</th>\n",
       "      <th>Unnamed: 10</th>\n",
       "      <th>Unnamed: 11</th>\n",
       "      <th>Unnamed: 12</th>\n",
       "      <th>Unnamed: 13</th>\n",
       "      <th>Unnamed: 14</th>\n",
       "      <th>Unnamed: 15</th>\n",
       "      <th>Unnamed: 16</th>\n",
       "      <th>Unnamed: 17</th>\n",
       "    </tr>\n",
       "  </thead>\n",
       "  <tbody>\n",
       "    <tr>\n",
       "      <th>count</th>\n",
       "      <td>4920</td>\n",
       "      <td>4920</td>\n",
       "      <td>4920</td>\n",
       "      <td>4920</td>\n",
       "      <td>4572</td>\n",
       "      <td>3714</td>\n",
       "      <td>2934</td>\n",
       "      <td>2268</td>\n",
       "      <td>1944</td>\n",
       "      <td>1692</td>\n",
       "      <td>1512</td>\n",
       "      <td>1194</td>\n",
       "      <td>744</td>\n",
       "      <td>504</td>\n",
       "      <td>306</td>\n",
       "      <td>240</td>\n",
       "      <td>192</td>\n",
       "      <td>72</td>\n",
       "    </tr>\n",
       "    <tr>\n",
       "      <th>unique</th>\n",
       "      <td>41</td>\n",
       "      <td>34</td>\n",
       "      <td>48</td>\n",
       "      <td>54</td>\n",
       "      <td>50</td>\n",
       "      <td>38</td>\n",
       "      <td>32</td>\n",
       "      <td>26</td>\n",
       "      <td>21</td>\n",
       "      <td>22</td>\n",
       "      <td>21</td>\n",
       "      <td>18</td>\n",
       "      <td>11</td>\n",
       "      <td>8</td>\n",
       "      <td>4</td>\n",
       "      <td>3</td>\n",
       "      <td>3</td>\n",
       "      <td>1</td>\n",
       "    </tr>\n",
       "    <tr>\n",
       "      <th>top</th>\n",
       "      <td>Fungalinfection</td>\n",
       "      <td>vomiting</td>\n",
       "      <td>vomiting</td>\n",
       "      <td>fatigue</td>\n",
       "      <td>high_fever</td>\n",
       "      <td>headache</td>\n",
       "      <td>nausea</td>\n",
       "      <td>abdominal_pain</td>\n",
       "      <td>abdominal_pain</td>\n",
       "      <td>yellowing_of_eyes</td>\n",
       "      <td>yellowing_of_eyes</td>\n",
       "      <td>irritability</td>\n",
       "      <td>malaise</td>\n",
       "      <td>muscle_pain</td>\n",
       "      <td>chest_pain</td>\n",
       "      <td>chest_pain</td>\n",
       "      <td>blood_in_sputum</td>\n",
       "      <td>muscle_pain</td>\n",
       "    </tr>\n",
       "    <tr>\n",
       "      <th>freq</th>\n",
       "      <td>120</td>\n",
       "      <td>822</td>\n",
       "      <td>870</td>\n",
       "      <td>726</td>\n",
       "      <td>378</td>\n",
       "      <td>348</td>\n",
       "      <td>390</td>\n",
       "      <td>264</td>\n",
       "      <td>276</td>\n",
       "      <td>228</td>\n",
       "      <td>198</td>\n",
       "      <td>120</td>\n",
       "      <td>126</td>\n",
       "      <td>72</td>\n",
       "      <td>96</td>\n",
       "      <td>144</td>\n",
       "      <td>72</td>\n",
       "      <td>72</td>\n",
       "    </tr>\n",
       "  </tbody>\n",
       "</table>\n",
       "</div>"
      ],
      "text/plain": [
       "                Disease Symptom_1 Symptom_2 Symptom_3   Symptom_4 Symptom_5  \\\n",
       "count              4920      4920      4920      4920        4572      3714   \n",
       "unique               41        34        48        54          50        38   \n",
       "top     Fungalinfection  vomiting  vomiting   fatigue  high_fever  headache   \n",
       "freq                120       822       870       726         378       348   \n",
       "\n",
       "       Unnamed: 6      Unnamed: 7      Unnamed: 8         Unnamed: 9  \\\n",
       "count        2934            2268            1944               1692   \n",
       "unique         32              26              21                 22   \n",
       "top        nausea  abdominal_pain  abdominal_pain  yellowing_of_eyes   \n",
       "freq          390             264             276                228   \n",
       "\n",
       "              Unnamed: 10   Unnamed: 11 Unnamed: 12  Unnamed: 13 Unnamed: 14  \\\n",
       "count                1512          1194         744          504         306   \n",
       "unique                 21            18          11            8           4   \n",
       "top     yellowing_of_eyes  irritability     malaise  muscle_pain  chest_pain   \n",
       "freq                  198           120         126           72          96   \n",
       "\n",
       "       Unnamed: 15      Unnamed: 16  Unnamed: 17  \n",
       "count          240              192           72  \n",
       "unique           3                3            1  \n",
       "top     chest_pain  blood_in_sputum  muscle_pain  \n",
       "freq           144               72           72  "
      ]
     },
     "execution_count": 156,
     "metadata": {},
     "output_type": "execute_result"
    }
   ],
   "source": [
    "df.describe()"
   ]
  },
  {
   "cell_type": "code",
   "execution_count": 157,
   "metadata": {
    "id": "u1gCB8kV0BET"
   },
   "outputs": [],
   "source": [
    "for i in range(7, 18):\n",
    "  df = df.drop(f\"Unnamed: {i}\", axis=1)"
   ]
  },
  {
   "cell_type": "code",
   "execution_count": 158,
   "metadata": {
    "id": "g4r2NilDwYUP"
   },
   "outputs": [],
   "source": [
    "# df=df.drop(\"Symptom_5\", axis=1)"
   ]
  },
  {
   "cell_type": "code",
   "execution_count": 159,
   "metadata": {
    "id": "mjWxJWJqy1Ww"
   },
   "outputs": [],
   "source": [
    "df=df.drop(\"Unnamed: 6\", axis=1)"
   ]
  },
  {
   "cell_type": "code",
   "execution_count": 160,
   "metadata": {
    "id": "671gusx0y1aN"
   },
   "outputs": [],
   "source": [
    "y=df['Disease']\n",
    "X=df.drop('Disease',axis=1)"
   ]
  },
  {
   "cell_type": "code",
   "execution_count": 161,
   "metadata": {},
   "outputs": [
    {
     "name": "stdout",
     "output_type": "stream",
     "text": [
      "['Fungalinfection' 'Allergy' 'GERD' 'Chroniccholestasis' 'DrugReaction'\n",
      " 'Pepticulcerdiseae' 'AIDS' 'Diabetes' 'Gastroenteritis' 'BronchialAsthma'\n",
      " 'Hypertension' 'Migraine' 'Cervicalspondylosis'\n",
      " 'Paralysis(brainhemorrhage)' 'Jaundice' 'Malaria' 'Chickenpox' 'Dengue'\n",
      " 'Typhoid' 'hepatitisA' 'HepatitisB' 'HepatitisC' 'HepatitisD'\n",
      " 'HepatitisE' 'Alcoholichepatitis' 'Tuberculosis' 'CommonCold' 'Pneumonia'\n",
      " 'Dimorphichemmorhoids(piles)' 'Heartattack' 'Varicoseveins'\n",
      " 'Hypothyroidism' 'Hyperthyroidism' 'Hypoglycemia' 'Osteoarthristis'\n",
      " 'Arthritis' '(vertigo)ParoymsalPositionalVertigo' 'Acne'\n",
      " 'Urinarytractinfection' 'Psoriasis' 'Impetigo']\n"
     ]
    }
   ],
   "source": [
    "a=pd.DataFrame(y)\n",
    "\n",
    "un= pd.unique(a.values.ravel())\n",
    "\n",
    "print(un)"
   ]
  },
  {
   "cell_type": "code",
   "execution_count": 162,
   "metadata": {},
   "outputs": [],
   "source": [
    "with open(\"../data/unique_diseases.pkl\", \"wb\") as f:\n",
    "    pkl.dump(un, f)"
   ]
  },
  {
   "cell_type": "code",
   "execution_count": 163,
   "metadata": {},
   "outputs": [
    {
     "name": "stdout",
     "output_type": "stream",
     "text": [
      "['itching' 'skin_rash' 'nodal_skin_eruptions' 'dischromic_patches' nan\n",
      " 'continuous_sneezing' 'shivering' 'chills' 'watering_from_eyes'\n",
      " 'stomach_pain' 'acidity' 'ulcers_on_tongue' 'vomiting' 'cough'\n",
      " 'chest_pain' 'yellowish_skin' 'nausea' 'loss_of_appetite'\n",
      " 'abdominal_pain' 'burning_micturition' 'spotting_urination'\n",
      " 'passage_of_gases' 'internal_itching' 'indigestion' 'muscle_wasting'\n",
      " 'patches_in_throat' 'high_fever' 'extra_marital_contacts' 'fatigue'\n",
      " 'weight_loss' 'restlessness' 'lethargy' 'irregular_sugar_level'\n",
      " 'blurred_and_distorted_vision' 'sunken_eyes' 'dehydration' 'diarrhoea'\n",
      " 'breathlessness' 'family_history' 'mucoid_sputum' 'headache' 'dizziness'\n",
      " 'loss_of_balance' 'lack_of_concentration' 'excessive_hunger' 'stiff_neck'\n",
      " 'back_pain' 'weakness_in_limbs' 'neck_pain' 'weakness_of_one_body_side'\n",
      " 'altered_sensorium' 'sweating' 'joint_pain' 'dark_urine'\n",
      " 'yellowing_of_eyes' 'swelling_of_stomach' 'distention_of_abdomen'\n",
      " 'history_of_alcohol_consumption' 'constipation'\n",
      " 'pain_during_bowel_movements' 'pain_in_anal_region' 'bloody_stool'\n",
      " 'irritation_in_anus' 'cramps' 'bruising' 'obesity' 'swollen_legs'\n",
      " 'swollen_blood_vessels' 'weight_gain' 'cold_hands_and_feets'\n",
      " 'mood_swings' 'anxiety' 'knee_pain' 'hip_joint_pain' 'swelling_joints'\n",
      " 'painful_walking' 'muscle_weakness' 'movement_stiffness'\n",
      " 'spinning_movements' 'unsteadiness' 'pus_filled_pimples' 'blackheads'\n",
      " 'scurring' 'bladder_discomfort' 'foul_smell_ofurine'\n",
      " 'continuous_feel_of_urine' 'skin_peeling' 'silver_like_dusting'\n",
      " 'small_dents_in_nails' 'inflammatory_nails' 'blister'\n",
      " 'red_sore_around_nose' 'yellow_crust_ooze']\n"
     ]
    }
   ],
   "source": [
    "Z = pd.DataFrame(X)\n",
    "\n",
    "# Get all unique values across all columns and store them in 'uns'\n",
    "uns = pd.unique(Z.values.ravel())\n",
    "\n",
    "print(uns)\n"
   ]
  },
  {
   "cell_type": "code",
   "execution_count": 164,
   "metadata": {},
   "outputs": [],
   "source": [
    "import pickle as pkl\n",
    "\n",
    "# Save the unique values to a pickle file\n",
    "with open('../data/unique_values.pkl', 'wb') as f:\n",
    "    pkl.dump(uns, f)"
   ]
  },
  {
   "cell_type": "code",
   "execution_count": null,
   "metadata": {},
   "outputs": [],
   "source": []
  },
  {
   "cell_type": "code",
   "execution_count": 165,
   "metadata": {
    "id": "QhxtuaUQwbfA"
   },
   "outputs": [],
   "source": [
    "def impute_missing_symptoms(X_train, X_test):\n",
    "    categorical_columns = [\"Symptom_1\", \"Symptom_2\"]\n",
    "    symptom3_column = [\"Symptom_3\"]\n",
    "    symptom4_column = [\"Symptom_4\"]\n",
    "    symptom5_column = [\"Symptom_5\"]\n",
    "\n",
    "    # Get all columns to be imputed\n",
    "    all_symptom_cols = categorical_columns + symptom3_column + symptom4_column + symptom5_column\n",
    "\n",
    "    for col in all_symptom_cols:\n",
    "        if col not in X_train.columns:\n",
    "            raise ValueError(f\"Column '{col}' not found in X_train.\")\n",
    "        if col not in X_test.columns:\n",
    "            raise ValueError(f\"Column '{col}' not found in X_test.\")\n",
    "\n",
    "    categorical_imputer = SimpleImputer(strategy=\"constant\", fill_value=\"unknown\")\n",
    "    symptom3_imputer = SimpleImputer(strategy=\"constant\", fill_value=\"unknown\")\n",
    "    symptom4_imputer = SimpleImputer(strategy=\"constant\", fill_value=\"unknown\")\n",
    "    symptom5_imputer = SimpleImputer(strategy=\"constant\", fill_value=\"unknown\")\n",
    "\n",
    "    imputer = ColumnTransformer([\n",
    "        (\"categorical_imputer\", categorical_imputer, categorical_columns),\n",
    "        (\"symptom3_imputer\", symptom3_imputer, symptom3_column),\n",
    "        (\"symptom4_imputer\", symptom4_imputer, symptom4_column),\n",
    "        (\"symptom5_imputer\", symptom5_imputer, symptom5_column)\n",
    "    ])\n",
    "\n",
    "    filled_X_train = imputer.fit_transform(X_train[all_symptom_cols]) # Impute only the symptom columns\n",
    "    filled_X_test = imputer.transform(X_test[all_symptom_cols]) # Impute only the symptom columns\n",
    "\n",
    "    # Create DataFrames with the imputed symptom columns\n",
    "    filled_X_train_df = pd.DataFrame(filled_X_train, columns=all_symptom_cols, index=X_train.index)\n",
    "    filled_X_test_df = pd.DataFrame(filled_X_test, columns=all_symptom_cols, index=X_test.index)\n",
    "\n",
    "    # Concatenate imputed symptom columns with the remaining columns of X_train and X_test\n",
    "    filled_X_train = pd.concat([filled_X_train_df, X_train.drop(columns=all_symptom_cols)], axis=1)\n",
    "    filled_X_test = pd.concat([filled_X_test_df, X_test.drop(columns=all_symptom_cols)], axis=1)\n",
    "\n",
    "    return filled_X_train, filled_X_test"
   ]
  },
  {
   "cell_type": "code",
   "execution_count": null,
   "metadata": {
    "id": "aKN7BUET1Fv3"
   },
   "outputs": [],
   "source": [
    "from sklearn.model_selection import train_test_split\n",
    "X_train, X_test, y_train, y_test = train_test_split(X, y, test_size=0.2, random_state=42)"
   ]
  },
  {
   "cell_type": "code",
   "execution_count": 167,
   "metadata": {},
   "outputs": [],
   "source": [
    "from sklearn.model_selection import KFold\n",
    "kf = KFold(n_splits=10, shuffle=True, random_state=42)\n",
    "accuracies = []\n",
    "\n",
    "# Perform K-Fold Cross-Validation\n",
    "for train_index, test_index in kf.split(X):\n",
    "    X_train, X_test = X.iloc[train_index], X.iloc[test_index]\n",
    "    y_train, y_test = y.iloc[train_index], y.iloc[test_index]"
   ]
  },
  {
   "cell_type": "code",
   "execution_count": 168,
   "metadata": {
    "id": "xmw-0mfZ1Nx-"
   },
   "outputs": [],
   "source": [
    "\n",
    "from sklearn.compose import ColumnTransformer\n",
    "from sklearn.preprocessing import OneHotEncoder\n",
    "from sklearn.ensemble import RandomForestClassifier\n",
    "from sklearn.metrics import classification_report, accuracy_score\n",
    "import pickle\n",
    "filled_X_train, filled_X_test = impute_missing_symptoms(X_train, X_test)"
   ]
  },
  {
   "cell_type": "code",
   "execution_count": 169,
   "metadata": {
    "id": "1oZ-gVjiyrhJ"
   },
   "outputs": [],
   "source": [
    "categorical_features = [\"Symptom_1\", \"Symptom_2\", \"Symptom_3\", \"Symptom_4\",\"Symptom_5\"]\n",
    "one_hot = OneHotEncoder(sparse_output=False, handle_unknown='ignore')\n",
    "transformer = ColumnTransformer([(\"one_hot\", one_hot, categorical_features)], remainder=\"passthrough\")\n",
    "\n",
    "transformed_X_train = transformer.fit_transform(X_train)\n",
    "transformed_X_test = transformer.transform(X_test)\n",
    "\n",
    "transformed_X_train = pd.DataFrame(transformed_X_train, columns=transformer.get_feature_names_out())\n",
    "transformed_X_test = pd.DataFrame(transformed_X_test, columns=transformer.get_feature_names_out())"
   ]
  },
  {
   "cell_type": "markdown",
   "metadata": {
    "id": "GgYjiSmOB7Vo"
   },
   "source": []
  },
  {
   "cell_type": "code",
   "execution_count": 170,
   "metadata": {
    "id": "eBT9ZIhpzgKz"
   },
   "outputs": [],
   "source": [
    "from sklearn.preprocessing import LabelEncoder\n",
    "import pandas as pd\n",
    "import numpy as np\n",
    "\n",
    "if isinstance(transformed_X_train, pd.DataFrame) and isinstance(transformed_X_test, pd.DataFrame):\n",
    "    categorical_cols_train = transformed_X_train.select_dtypes(include=['object']).columns\n",
    "    categorical_cols_test = transformed_X_test.select_dtypes(include=['object']).columns\n",
    "\n",
    "    all_categorical_cols = list(set(categorical_cols_train) | set(categorical_cols_test))\n",
    "\n",
    "    for col in all_categorical_cols:\n",
    "        le = LabelEncoder()\n",
    "        all_data = pd.concat([transformed_X_train[col], transformed_X_test[col]], axis=0)\n",
    "        le.fit(all_data)\n",
    "\n",
    "        if col in transformed_X_train:\n",
    "            transformed_X_train[col] = le.transform(transformed_X_train[col])\n",
    "        if col in transformed_X_test:\n",
    "            transformed_X_test[col] = le.transform(transformed_X_test[col])\n",
    "\n",
    "elif isinstance(transformed_X_train, np.ndarray) and isinstance(transformed_X_test, np.ndarray):\n",
    "    categorical_cols_train = []\n",
    "    for i in range(transformed_X_train.shape[1]):\n",
    "        try:\n",
    "            transformed_X_train[:, i].astype(float)\n",
    "        except ValueError:\n",
    "            categorical_cols_train.append(i)\n",
    "\n",
    "    categorical_cols_test = []\n",
    "    for i in range(transformed_X_test.shape[1]):\n",
    "        try:\n",
    "            transformed_X_test[:, i].astype(float)\n",
    "        except ValueError:\n",
    "            categorical_cols_test.append(i)\n",
    "\n",
    "    all_categorical_cols = list(set(categorical_cols_train) | set(categorical_cols_test))\n",
    "\n",
    "    for col in all_categorical_cols:\n",
    "        le = LabelEncoder()\n",
    "        all_data = np.concatenate((transformed_X_train[:, col], transformed_X_test[:, col]), axis=0)\n",
    "        le.fit(all_data)\n",
    "\n",
    "        if col in categorical_cols_train:\n",
    "            transformed_X_train[:, col] = le.transform(transformed_X_train[:, col])\n",
    "        if col in categorical_cols_test:\n",
    "            transformed_X_test[:, col] = le.transform(transformed_X_test[:, col])"
   ]
  },
  {
   "cell_type": "code",
   "execution_count": 171,
   "metadata": {
    "colab": {
     "base_uri": "https://localhost:8080/",
     "height": 97
    },
    "id": "Pb4ru57_Z_hB",
    "outputId": "62c58a64-862b-40b6-c2da-abd05cb622af"
   },
   "outputs": [
    {
     "name": "stdout",
     "output_type": "stream",
     "text": [
      "score: 97.56%\n"
     ]
    }
   ],
   "source": [
    "# from sklearn.model_selection import GridSearchCV\n",
    "# param_grid = {\n",
    "#     'n_estimators': [100],  # Start with a reasonable number\n",
    "#     'max_depth': [3, 5, 7],  # Aggressively limit depth\n",
    "#     'min_samples_split': [5, 10, 15],\n",
    "#     'min_samples_leaf': [2, 4, 6],\n",
    "#     'max_features': ['sqrt'] # test using a smaller number of features.\n",
    "# }\n",
    "\n",
    "clf = RandomForestClassifier(random_state=42,max_depth=10,class_weight=\"balanced\",n_estimators=200)\n",
    "# clf = GridSearchCV(rf, param_grid, cv=5, scoring='accuracy') # use cross validation.\n",
    "clf.fit(transformed_X_train, y_train)\n",
    "score=clf.score(transformed_X_test, y_test)*100\n",
    "print(f\"score: {score:.2f}%\")\n",
    "# clf = clf.best_estimator_"
   ]
  },
  {
   "cell_type": "code",
   "execution_count": 172,
   "metadata": {},
   "outputs": [],
   "source": [
    "# import xgboost as xgb\n",
    "# from sklearn.model_selection import train_test_split, cross_val_score, StratifiedKFold\n",
    "\n",
    "# xgb_classifier = xgb.XGBClassifier(\n",
    "#     objective='multi:softmax',  # For multiclass classification\n",
    "#     # num_class=len(label_encoder.classes_),  # Number of classes\n",
    "#     random_state=42,\n",
    "#     n_estimators=100, # or higher, tune this\n",
    "#     learning_rate=0.1, # tune this\n",
    "#     max_depth=5, # tune this\n",
    "#     subsample=0.8, # tune this\n",
    "#     colsample_bytree=0.8 # tune this\n",
    "# )\n",
    "\n",
    "# # Train the model\n",
    "# xgb_classifier.fit(transformed_X_train, y_train)\n",
    "\n",
    "# # Make predictions on the test set\n",
    "\n",
    "# y_pred = xgb_classifier.predict(X_test)\n"
   ]
  },
  {
   "cell_type": "code",
   "execution_count": 173,
   "metadata": {
    "id": "xCh1gG37Z_hC"
   },
   "outputs": [],
   "source": [
    "# # Predictions\n",
    "y_pred = clf.predict(transformed_X_test)"
   ]
  },
  {
   "cell_type": "code",
   "execution_count": 174,
   "metadata": {
    "colab": {
     "base_uri": "https://localhost:8080/"
    },
    "id": "D_bMSJV61b_y",
    "outputId": "f1c91d05-b2d6-4478-954b-6e2009adede4"
   },
   "outputs": [
    {
     "name": "stdout",
     "output_type": "stream",
     "text": [
      "Accuracy: 97.56%\n",
      "Precision: 98.55%\n",
      "Recall: 97.56%\n",
      "F1-score: 97.82%\n"
     ]
    }
   ],
   "source": [
    "from sklearn.metrics import accuracy_score, precision_score, recall_score, f1_score\n",
    "\n",
    "accuracy = accuracy_score(y_test, y_pred) * 100\n",
    "precision = precision_score(y_test, y_pred, average='weighted', zero_division=0) * 100\n",
    "recall = recall_score(y_test, y_pred, average='weighted', zero_division=0) * 100\n",
    "f1 = f1_score(y_test, y_pred, average='weighted', zero_division=0) * 100\n",
    "\n",
    "print(f\"Accuracy: {accuracy:.2f}%\")\n",
    "print(f\"Precision: {precision:.2f}%\")\n",
    "print(f\"Recall: {recall:.2f}%\")\n",
    "print(f\"F1-score: {f1:.2f}%\")\n",
    "\n"
   ]
  },
  {
   "cell_type": "code",
   "execution_count": 175,
   "metadata": {
    "id": "xbvHM4RD2qM9"
   },
   "outputs": [],
   "source": [
    "model_data = {'model': clf, 'transformer': transformer}\n",
    "with open('../models/train_model.pkl', 'wb') as file:\n",
    "    pickle.dump(model_data, file)"
   ]
  },
  {
   "cell_type": "code",
   "execution_count": 176,
   "metadata": {
    "id": "0n6_O_ca6YeL"
   },
   "outputs": [],
   "source": [
    "symptom_1 = 'itching'\n",
    "symptom_2 = 'skin_rash'\n",
    "symptom_3 = 'nodal_skin_eruptions'\n",
    "symptom_4 = 'dischromic_patches'\n",
    "symptom_5 = 'dischromic_patches'\n",
    "\n",
    "input_data = pd.DataFrame({\n",
    "    'Symptom_1': [symptom_1],\n",
    "    'Symptom_2': [symptom_2],\n",
    "    'Symptom_3': [symptom_3],\n",
    "    'Symptom_4': [symptom_4],\n",
    "    'Symptom_5': [symptom_5]})"
   ]
  },
  {
   "cell_type": "code",
   "execution_count": 177,
   "metadata": {
    "id": "lncAxHSd3qUT"
   },
   "outputs": [],
   "source": [
    "with open('../models/train_model.pkl', 'rb') as file:\n",
    "    model_data = pickle.load(file)\n",
    "\n",
    "clf = model_data['model']\n",
    "transformer = model_data['transformer']"
   ]
  },
  {
   "cell_type": "code",
   "execution_count": 178,
   "metadata": {
    "id": "pAzkPoFK7rZI"
   },
   "outputs": [],
   "source": [
    "\n",
    "try:\n",
    "    transformed_input = transformer.transform(input_data)\n",
    "    transformed_input_df = pd.DataFrame(transformed_input, columns=transformer.get_feature_names_out())\n",
    "except ValueError as e:\n",
    "    print(f\"Error transforming input: {e}\")\n",
    "    print(\"Please ensure input symptom values match those used during training.\")\n",
    "    exit()"
   ]
  },
  {
   "cell_type": "code",
   "execution_count": 179,
   "metadata": {
    "id": "WHC9i-ME8G1e"
   },
   "outputs": [],
   "source": [
    "try:\n",
    "    prediction = clf.predict(transformed_input_df)\n",
    "    predicted_disease = prediction[0]\n",
    "\n",
    "    probabilities = clf.predict_proba(transformed_input_df)\n",
    "    confidence = probabilities[0][clf.classes_.tolist().index(predicted_disease)]\n",
    "\n",
    "except Exception as e:\n",
    "    print(f\"Error making prediction: {e}\")\n",
    "    print(\"Please check the model and input data.\")\n",
    "    exit()"
   ]
  },
  {
   "cell_type": "code",
   "execution_count": 180,
   "metadata": {
    "colab": {
     "base_uri": "https://localhost:8080/"
    },
    "id": "WZxG-Evb8MPV",
    "outputId": "3378316f-372f-43fa-bb1d-c4510d6fc329"
   },
   "outputs": [
    {
     "name": "stdout",
     "output_type": "stream",
     "text": [
      "Symptom Summary:\n",
      "- Symptom 1: itching\n",
      "- Symptom 2: skin_rash\n",
      "- Symptom 3: nodal_skin_eruptions\n",
      "- Symptom 4: dischromic_patches\n",
      "- Symptom 5: dischromic_patches\n",
      "\n",
      "Predicted Disease: Fungalinfection\n",
      "Prediction Confidence: 0.3411\n",
      "\n",
      "Disclaimer:\n",
      "This prediction is based on limited symptom data and should not be used for medical diagnosis.\n",
      "Consult a healthcare professional for accurate diagnosis and treatment.\n"
     ]
    }
   ],
   "source": [
    "print(\"Symptom Summary:\")\n",
    "print(f\"- Symptom 1: {symptom_1}\")\n",
    "print(f\"- Symptom 2: {symptom_2}\")\n",
    "print(f\"- Symptom 3: {symptom_3}\")\n",
    "print(f\"- Symptom 4: {symptom_4}\")\n",
    "print(f\"- Symptom 5: {symptom_5}\")\n",
    "print(f\"\\nPredicted Disease: {predicted_disease}\")\n",
    "print(f\"Prediction Confidence: {confidence:.4f}\")\n",
    "\n",
    "print(\"\\nDisclaimer:\")\n",
    "print(\"This prediction is based on limited symptom data and should not be used for medical diagnosis.\")\n",
    "print(\"Consult a healthcare professional for accurate diagnosis and treatment.\")"
   ]
  },
  {
   "cell_type": "code",
   "execution_count": null,
   "metadata": {
    "id": "MxZodQan8cjx"
   },
   "outputs": [],
   "source": []
  },
  {
   "cell_type": "code",
   "execution_count": null,
   "metadata": {
    "id": "3EIQonTVdKu0"
   },
   "outputs": [],
   "source": []
  },
  {
   "cell_type": "code",
   "execution_count": null,
   "metadata": {
    "id": "elvVrEcqiXBI"
   },
   "outputs": [],
   "source": []
  },
  {
   "cell_type": "code",
   "execution_count": null,
   "metadata": {
    "id": "r8LGyOasdMn6"
   },
   "outputs": [],
   "source": []
  }
 ],
 "metadata": {
  "colab": {
   "provenance": []
  },
  "kernelspec": {
   "display_name": "base",
   "language": "python",
   "name": "python3"
  },
  "language_info": {
   "codemirror_mode": {
    "name": "ipython",
    "version": 3
   },
   "file_extension": ".py",
   "mimetype": "text/x-python",
   "name": "python",
   "nbconvert_exporter": "python",
   "pygments_lexer": "ipython3",
   "version": "3.12.7"
  }
 },
 "nbformat": 4,
 "nbformat_minor": 4
}
