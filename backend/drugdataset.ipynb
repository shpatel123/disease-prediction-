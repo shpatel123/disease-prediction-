{
 "cells": [
  {
   "cell_type": "code",
   "execution_count": 1,
   "metadata": {},
   "outputs": [],
   "source": [
    "import numpy as np\n",
    "import pandas as pd\n"
   ]
  },
  {
   "cell_type": "code",
   "execution_count": 3,
   "metadata": {},
   "outputs": [],
   "source": [
    "dd=pd.read_csv('../data/disease_consolidated_treatment_dataset.csv')"
   ]
  },
  {
   "cell_type": "code",
   "execution_count": 4,
   "metadata": {},
   "outputs": [
    {
     "data": {
      "text/html": [
       "<div>\n",
       "<style scoped>\n",
       "    .dataframe tbody tr th:only-of-type {\n",
       "        vertical-align: middle;\n",
       "    }\n",
       "\n",
       "    .dataframe tbody tr th {\n",
       "        vertical-align: top;\n",
       "    }\n",
       "\n",
       "    .dataframe thead th {\n",
       "        text-align: right;\n",
       "    }\n",
       "</style>\n",
       "<table border=\"1\" class=\"dataframe\">\n",
       "  <thead>\n",
       "    <tr style=\"text-align: right;\">\n",
       "      <th></th>\n",
       "      <th>Condition</th>\n",
       "      <th>Drug Name</th>\n",
       "    </tr>\n",
       "  </thead>\n",
       "  <tbody>\n",
       "    <tr>\n",
       "      <th>0</th>\n",
       "      <td>Fungal infection</td>\n",
       "      <td>Fluconazole, Itraconazole, Terbinafine, Clotri...</td>\n",
       "    </tr>\n",
       "    <tr>\n",
       "      <th>1</th>\n",
       "      <td>Allergy</td>\n",
       "      <td>Cetirizine, Loratadine, Fexofenadine, Diphenhy...</td>\n",
       "    </tr>\n",
       "    <tr>\n",
       "      <th>2</th>\n",
       "      <td>GERD</td>\n",
       "      <td>Omeprazole, Pantoprazole, Esomeprazole, Famoti...</td>\n",
       "    </tr>\n",
       "    <tr>\n",
       "      <th>3</th>\n",
       "      <td>Chronic cholestasis</td>\n",
       "      <td>Ursodeoxycholic acid, Cholestyramine, Rifampic...</td>\n",
       "    </tr>\n",
       "    <tr>\n",
       "      <th>4</th>\n",
       "      <td>Drug Reaction</td>\n",
       "      <td>Prednisone, Methylprednisolone, Diphenhydramin...</td>\n",
       "    </tr>\n",
       "  </tbody>\n",
       "</table>\n",
       "</div>"
      ],
      "text/plain": [
       "             Condition                                          Drug Name\n",
       "0     Fungal infection  Fluconazole, Itraconazole, Terbinafine, Clotri...\n",
       "1              Allergy  Cetirizine, Loratadine, Fexofenadine, Diphenhy...\n",
       "2                 GERD  Omeprazole, Pantoprazole, Esomeprazole, Famoti...\n",
       "3  Chronic cholestasis  Ursodeoxycholic acid, Cholestyramine, Rifampic...\n",
       "4        Drug Reaction  Prednisone, Methylprednisolone, Diphenhydramin..."
      ]
     },
     "execution_count": 4,
     "metadata": {},
     "output_type": "execute_result"
    }
   ],
   "source": [
    "dd.head()"
   ]
  },
  {
   "cell_type": "code",
   "execution_count": 8,
   "metadata": {},
   "outputs": [
    {
     "data": {
      "text/plain": [
       "Condition    0\n",
       "Drug Name    0\n",
       "dtype: int64"
      ]
     },
     "execution_count": 8,
     "metadata": {},
     "output_type": "execute_result"
    }
   ],
   "source": [
    "dd.isna().sum()"
   ]
  },
  {
   "cell_type": "code",
   "execution_count": 13,
   "metadata": {},
   "outputs": [
    {
     "data": {
      "text/plain": [
       "array(['Fluconazole, Itraconazole, Terbinafine, Clotrimazole, Nystatin',\n",
       "       'Cetirizine, Loratadine, Fexofenadine, Diphenhydramine, Montelukast',\n",
       "       'Omeprazole, Pantoprazole, Esomeprazole, Famotidine, Ranitidine',\n",
       "       'Ursodeoxycholic acid, Cholestyramine, Rifampicin, Naltrexone, Sertraline',\n",
       "       'Prednisone, Methylprednisolone, Diphenhydramine, Epinephrine, Cetirizine',\n",
       "       'Omeprazole, Pantoprazole, Amoxicillin, Clarithromycin, Bismuth subsalicylate',\n",
       "       'Tenofovir, Emtricitabine, Efavirenz, Dolutegravir, Raltegravir',\n",
       "       'Metformin, Insulin, Glimepiride, Sitagliptin, Empagliflozin',\n",
       "       'Ciprofloxacin, Loperamide, Ondansetron, Metronidazole, Electrolyte solutions',\n",
       "       'Albuterol, Fluticasone, Montelukast, Budesonide, Ipratropium',\n",
       "       'Lisinopril, Amlodipine, Hydrochlorothiazide, Losartan, Metoprolol',\n",
       "       'Sumatriptan, Rizatriptan, Topiramate, Propranolol, Amitriptyline',\n",
       "       'Ibuprofen, Naproxen, Cyclobenzaprine, Gabapentin, Tramadol',\n",
       "       'Aspirin, Clopidogrel, Mannitol, Statins, Antihypertensives',\n",
       "       'Phototherapy, Phenobarbital, Ursodeoxycholic acid, Lactulose, Rifampicin',\n",
       "       'Artemether-lumefantrine, Chloroquine, Hydroxychloroquine, Primaquine, Atovaquone-proguanil',\n",
       "       'Acyclovir, Valacyclovir, Calamine lotion, Diphenhydramine, Acetaminophen',\n",
       "       'Acetaminophen, Intravenous fluids, Platelet transfusions, NSAIDs avoidance, Electrolyte replacement',\n",
       "       'Ciprofloxacin, Ceftriaxone, Azithromycin, Chloramphenicol, Trimethoprim-sulfamethoxazole',\n",
       "       'Supportive care, Immune globulin, Vaccine (preventive), Hydration, Rest',\n",
       "       'Tenofovir, Entecavir, Lamivudine, Adefovir, Peginterferon alfa-2a',\n",
       "       'Sofosbuvir, Ledipasvir, Velpatasvir, Glecaprevir, Pibrentasvir',\n",
       "       'Peginterferon alfa, Supportive care, Hepatitis B treatments, Liver transplantation, Antiviral therapy',\n",
       "       'Supportive care, Ribavirin, Sofosbuvir, Rest, Hydration',\n",
       "       'Corticosteroids, Pentoxifylline, Nutritional support, Abstinence counseling, N-acetylcysteine',\n",
       "       'Isoniazid, Rifampin, Ethambutol, Pyrazinamide, Streptomycin',\n",
       "       'Acetaminophen, Dextromethorphan, Pseudoephedrine, Nasal saline, Zinc lozenges',\n",
       "       'Amoxicillin, Azithromycin, Levofloxacin, Ceftriaxone, Doxycycline',\n",
       "       'Hydrocortisone cream, Fiber supplements, Docusate sodium, Nifedipine ointment, Rubber band ligation',\n",
       "       'Aspirin, Clopidogrel, Atorvastatin, Metoprolol, Nitroglycerin',\n",
       "       'Compression stockings, Sclerotherapy, Endovenous laser treatment, Radiofrequency ablation, Phlebectomy',\n",
       "       'Levothyroxine, Liothyronine, Desiccated thyroid extract, Selenium supplements, Iodine supplements',\n",
       "       'Methimazole, Propylthiouracil, Propranolol, Radioactive iodine, Potassium iodide solution',\n",
       "       'Glucose tablets, Glucagon, Dextrose, Diazoxide, Octreotide',\n",
       "       'Acetaminophen, Ibuprofen, Naproxen, Duloxetine, Tramadol',\n",
       "       'Methotrexate, Hydroxychloroquine, Adalimumab, Prednisone, Sulfasalazine',\n",
       "       'Meclizine, Diazepam, Promethazine, Dimenhydrinate, Epley maneuver',\n",
       "       'Benzoyl peroxide, Tretinoin, Clindamycin, Isotretinoin, Doxycycline',\n",
       "       'Nitrofurantoin, Trimethoprim-sulfamethoxazole, Ciprofloxacin, Fosfomycin, Amoxicillin-clavulanate',\n",
       "       'Methotrexate, Adalimumab, Secukinumab, Calcipotriene, Apremilast',\n",
       "       'Mupirocin, Retapamulin, Bacitracin, Dicloxacillin, Cephalexin'],\n",
       "      dtype=object)"
      ]
     },
     "execution_count": 13,
     "metadata": {},
     "output_type": "execute_result"
    }
   ],
   "source": [
    "dd['Drug Name'].unique()"
   ]
  },
  {
   "cell_type": "code",
   "execution_count": null,
   "metadata": {},
   "outputs": [],
   "source": []
  }
 ],
 "metadata": {
  "kernelspec": {
   "display_name": "base",
   "language": "python",
   "name": "python3"
  },
  "language_info": {
   "codemirror_mode": {
    "name": "ipython",
    "version": 3
   },
   "file_extension": ".py",
   "mimetype": "text/x-python",
   "name": "python",
   "nbconvert_exporter": "python",
   "pygments_lexer": "ipython3",
   "version": "3.12.7"
  }
 },
 "nbformat": 4,
 "nbformat_minor": 2
}
