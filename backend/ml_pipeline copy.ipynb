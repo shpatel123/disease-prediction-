{
 "cells": [
  {
   "cell_type": "code",
   "execution_count": 28,
   "metadata": {},
   "outputs": [],
   "source": [
    "import pandas as pd\n",
    "from sklearn.model_selection import train_test_split\n",
    "from sklearn.preprocessing import LabelEncoder\n",
    "from sklearn.ensemble import RandomForestClassifier\n",
    "from sklearn.metrics import accuracy_score, classification_report\n",
    "import pickle\n",
    "import os"
   ]
  },
  {
   "cell_type": "code",
   "execution_count": 29,
   "metadata": {},
   "outputs": [],
   "source": [
    "try:\n",
    "    symptom_data = pd.read_csv('../data/disease_symptom.csv') #change to '../data/' if needed.\n",
    "    drug_data = pd.read_csv('../data/disease_drug.csv') #change to '../data/' if needed.\n",
    "except FileNotFoundError as e:\n",
    "    print(f\"Error: {e}\")\n",
    "    raise e #or use return, but raise will stop execution."
   ]
  },
  {
   "cell_type": "code",
   "execution_count": 30,
   "metadata": {},
   "outputs": [],
   "source": [
    "if \"Disease\" not in symptom_data.columns or \"Disease\" not in drug_data.columns:\n",
    "    print(\"Error: 'Disease' column missing from one or both CSV files.\")\n",
    "    raise Exception(\"Disease column missing\")\n",
    "\n",
    "symptom_diseases = set(symptom_data[\"Disease\"].unique())\n",
    "drug_diseases = set(drug_data[\"Disease\"].unique())\n",
    "\n",
    "if not symptom_diseases.issubset(drug_diseases):\n",
    "    print(\"Error: there are diseases in the symptom file that are not in the drug file.\")\n",
    "    raise Exception(\"disease mismatch\")"
   ]
  },
  {
   "cell_type": "code",
   "execution_count": 31,
   "metadata": {},
   "outputs": [],
   "source": [
    "symptoms = pd.get_dummies(symptom_data[['Symptom1', 'Symptom2', 'Symptom3', 'Symptom4']].stack()).groupby(level=0).sum()\n",
    "diseases = symptom_data['Disease']\n",
    "\n",
    "drugs = drug_data['Drug Name']\n",
    "\n",
    "label_encoder = LabelEncoder()\n",
    "encoded_diseases = label_encoder.fit_transform(diseases)"
   ]
  },
  {
   "cell_type": "code",
   "execution_count": 32,
   "metadata": {},
   "outputs": [
    {
     "name": "stdout",
     "output_type": "stream",
     "text": [
      "Accuracy: 0.973\n",
      "Classification Report:\n",
      "                 precision    recall  f1-score   support\n",
      "\n",
      "   Acid Reflux       1.00      1.00      1.00        97\n",
      "   Alzheimer's       1.00      1.00      1.00        87\n",
      "        Anemia       0.91      0.96      0.93        90\n",
      "     Arthritis       1.00      1.00      1.00       105\n",
      "        Asthma       0.94      0.82      0.88       108\n",
      "    Bronchitis       0.82      0.94      0.88        94\n",
      "      COVID-19       0.89      1.00      0.94        77\n",
      "    Depression       1.00      1.00      1.00        96\n",
      "      Diabetes       1.00      1.00      1.00       104\n",
      "      Epilepsy       1.00      1.00      1.00        92\n",
      "           Flu       1.00      0.90      0.95        98\n",
      " Heart Disease       0.94      0.91      0.92        98\n",
      "  Hypertension       0.96      0.94      0.95       101\n",
      "Hypothyroidism       1.00      1.00      1.00        98\n",
      " Kidney Stones       1.00      1.00      1.00       110\n",
      " Liver Disease       1.00      1.00      1.00       106\n",
      "      Migraine       1.00      1.00      1.00       106\n",
      "     Pneumonia       1.00      1.00      1.00       106\n",
      "        Stroke       1.00      1.00      1.00       112\n",
      "  Tuberculosis       1.00      1.00      1.00       115\n",
      "\n",
      "      accuracy                           0.97      2000\n",
      "     macro avg       0.97      0.97      0.97      2000\n",
      "  weighted avg       0.97      0.97      0.97      2000\n",
      "\n"
     ]
    }
   ],
   "source": [
    "X_train, X_test, y_train, y_test = train_test_split(symptoms, encoded_diseases, test_size=0.2, random_state=42)\n",
    "symptom_columns = symptoms.columns\n",
    "\n",
    "model = RandomForestClassifier(n_estimators=100, random_state=42)\n",
    "model.fit(X_train, y_train)\n",
    "\n",
    "y_pred = model.predict(X_test)\n",
    "accuracy = accuracy_score(y_test, y_pred)\n",
    "report = classification_report(y_test, y_pred, target_names=label_encoder.classes_)\n",
    "\n",
    "print(f\"Accuracy: {accuracy}\")\n",
    "print(\"Classification Report:\\n\", report)"
   ]
  },
  {
   "cell_type": "code",
   "execution_count": 33,
   "metadata": {},
   "outputs": [],
   "source": [
    "if not os.path.exists('models'):\n",
    "    os.makedirs('models')\n",
    "\n",
    "with open('../models/symptom_disease_model.pkl', 'wb') as f:\n",
    "    pickle.dump(model, f)\n",
    "with open('../models/label_encoder.pkl', 'wb') as f:\n",
    "    pickle.dump(label_encoder, f)\n",
    "with open('../models/drugs.pkl', 'wb') as f:\n",
    "    pickle.dump(drugs, f)\n",
    "with open('../models/symptom_columns.pkl', 'wb') as f:\n",
    "    pickle.dump(symptom_columns, f)"
   ]
  },
  {
   "cell_type": "code",
   "execution_count": 34,
   "metadata": {},
   "outputs": [],
   "source": [
    "# Sample Input and Confidence Score\n",
    "sample_input_symptoms = ['persistent_cough', 'weight_loss', 'night_sweats', 'fatigue'] #Example symptoms\n",
    "sample_input = pd.DataFrame([dict(zip(symptom_columns, [1 if symptom in sample_input_symptoms else 0 for symptom in symptom_columns]))])\n",
    "\n",
    "# Load the model and label encoder\n",
    "with open('../models/symptom_disease_model.pkl', 'rb') as f:\n",
    "    loaded_model = pickle.load(f)\n",
    "with open('../models/label_encoder.pkl', 'rb') as f:\n",
    "    loaded_label_encoder = pickle.load(f)"
   ]
  },
  {
   "cell_type": "code",
   "execution_count": 35,
   "metadata": {},
   "outputs": [
    {
     "name": "stdout",
     "output_type": "stream",
     "text": [
      "\n",
      "Sample Input Symptoms: ['persistent_cough', 'weight_loss', 'night_sweats', 'fatigue']\n",
      "Predicted Disease: Arthritis\n",
      "Confidence Score: 19.00%\n"
     ]
    }
   ],
   "source": [
    "# Predict and get probabilities\n",
    "predicted_encoded = loaded_model.predict(sample_input)\n",
    "predicted_disease = loaded_label_encoder.inverse_transform(predicted_encoded)[0]\n",
    "probabilities = loaded_model.predict_proba(sample_input)[0]\n",
    "\n",
    "# Get the confidence score for the predicted disease\n",
    "confidence_score = probabilities[predicted_encoded[0]] * 100\n",
    "\n",
    "print(f\"\\nSample Input Symptoms: {sample_input_symptoms}\")\n",
    "print(f\"Predicted Disease: {predicted_disease}\")\n",
    "print(f\"Confidence Score: {confidence_score:.2f}%\")"
   ]
  },
  {
   "cell_type": "code",
   "execution_count": null,
   "metadata": {},
   "outputs": [],
   "source": []
  }
 ],
 "metadata": {
  "kernelspec": {
   "display_name": "venv",
   "language": "python",
   "name": "python3"
  },
  "language_info": {
   "codemirror_mode": {
    "name": "ipython",
    "version": 3
   },
   "file_extension": ".py",
   "mimetype": "text/x-python",
   "name": "python",
   "nbconvert_exporter": "python",
   "pygments_lexer": "ipython3",
   "version": "3.13.2"
  }
 },
 "nbformat": 4,
 "nbformat_minor": 2
}
